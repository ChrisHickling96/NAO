{
 "cells": [
  {
   "cell_type": "code",
   "execution_count": 34,
   "metadata": {},
   "outputs": [
    {
     "name": "stdout",
     "output_type": "stream",
     "text": [
      "Populating the interactive namespace from numpy and matplotlib\n",
      "Using matplotlib backend: Qt5Agg\n"
     ]
    }
   ],
   "source": [
    "import numpy as np\n",
    "%pylab inline\n",
    "%matplotlib\n",
    "import pathlib\n",
    "import os"
   ]
  },
  {
   "cell_type": "code",
   "execution_count": 57,
   "metadata": {},
   "outputs": [],
   "source": [
    "def num_Kids(authority,year):\n",
    "    \"gives the number of kids expected to participate in early education and child care for a given year and authority.\"\n",
    "    \n",
    "    #year is defined as years since 2018.\n",
    "    \n",
    "    Code = authority[0]\n",
    "    Name = authority[3]\n",
    "    \n",
    "   \n",
    "    Num2 =int(np.ceil(float(authority[20])/100 * 0.25 * 1000 *  float(authority[year+4])))\n",
    "    Num3 =int(np.ceil(float(authority[21])/100 * 0.25 * 1000 *  float(authority[year+4])))\n",
    "    Num4 =int(np.ceil(float(authority[22])/100 * 0.25 * 1000 *  float(authority[year+4])))\n",
    "    totKid = Num2 + Num3 + Num4\n",
    "    #Number of 2 yr olds and 3/4 yr olds for a given authority in a region. \n",
    "    #Assuming that each bracket 1 to 4 can be split equally into each age group.\n",
    "    #This assumption is known to be false as 1-4yr old populations are not constant year-on-year.\n",
    "    #data was given in 1000s of children. \n",
    "    \n",
    "    return [Code, Name, Num2, Num3, Num4, totKid]\n",
    "\n",
    "def plotKids(Authority):\n",
    "    #plots the number of kids per year for a given authority.\n",
    "    #plot assumes that the uptake % of children remains constant at 2018 levels.\n",
    "    #All changes are due to changes in population.\n",
    "    \n",
    "    Code = Authority[0]\n",
    "    Name = Authority[3]\n",
    "    labelAuth = Name + \": \" +  Code\n",
    "    Kids = []\n",
    "    twoyr = []\n",
    "    threeyr = []\n",
    "    fouryr = []\n",
    "    years = []\n",
    "    \n",
    "    \n",
    "    for i in year:\n",
    "        years.append(2018 + i)\n",
    "        sample = num_Kids(Authority, i)\n",
    "        noKids = sample[5]\n",
    "        twoyr.append(sample[2])\n",
    "        threeyr.append(sample[3])\n",
    "        fouryr.append(sample[4])\n",
    "        Kids.append(noKids)\n",
    "        i = i +1\n",
    "\n",
    "    plot(years,Kids, label = \"Total Number of Children\")\n",
    "    plot(years, twoyr, label = \"Number of 2 yr olds\")\n",
    "    plot(years, threeyr, label = \"Number of 3 yr olds\")\n",
    "    plot(years, fouryr, label = \"Number of 4 yr olds\")\n",
    "    title(labelAuth)\n",
    "    xlabel('Year')\n",
    "    ylabel('Number of Kids')\n",
    "    legend()\n",
    "    show()\n",
    "    \n",
    "def num_hours(authority,year):\n",
    "    \"gives the number of hours of adult time needed per week for each child on average required for each authority for each age\"\n",
    "        \n",
    "    Code = authority[0]\n",
    "    Name = authority[3]\n",
    "\n",
    "   \n",
    "    twoHours =int(np.ceil(float(authority[16]) * 0.25 * 1000 / 3*  float(authority[year+4])))\n",
    "    threeHours =int(np.ceil(float(authority[18]) * 0.25 * 1000/ 4 * 86/96* float(authority[year+4])))\n",
    "    fourHours =int(np.ceil(float(authority[18]) * 0.25 * 1000 / 6*  float(authority[year+4])))\n",
    "    #Using Data from text file ... The average number of hours of child care per child was calculated for each authority on excel.\n",
    "    #No Data was available for 3 yr olds when the allowance was 30 hours so it was assumed to be similar to number of hours for 4 yr olds.\n",
    "    #Nationally 96% of 4 yr olds use 13+ hrs and 86% of 3 yr olds use 13+ hrs. \n",
    "    #So uptake for 3 yr olds  for 15+hrs is calculated from uptake for 4 yr olds and modified with this ratio (86:96)\n",
    "    \n",
    "    return [Code, Name, twoHours, threeHours, fourHours]\n",
    "\n",
    "def staff_num(authority, year):\n",
    "    \n",
    "    hoursRequired = num_hours(authority, year)\n",
    "    Code = hoursRequired[0]\n",
    "    Name = hoursRequired[1]\n",
    "    totHours = hoursRequired[2] + hoursRequired[3] + hoursRequired[4]\n",
    "    minStaff = int(np.ceil(totHours/35))\n",
    "    #Assuming a 35 hour week.\n",
    "    \n",
    "    return minStaff\n",
    "\n",
    "def staff_plot(Authority):\n",
    "    \n",
    "    Code = Authority[0]\n",
    "    Name = Authority[3]\n",
    "    labelAuth = Name + \": \" +  Code\n",
    "    \n",
    "    Kids = []\n",
    "    Staff = []\n",
    "    years = []\n",
    "    twoyr = []\n",
    "    threeyr = []\n",
    "    fouryr = []\n",
    "    \n",
    "    \n",
    "    for i in year:\n",
    "        years.append(2018 + i)\n",
    "        sample1 = num_Kids(Authority, i)\n",
    "        Kids.append(sample1[5])\n",
    "        two = sample1[2]\n",
    "        three = sample1[3]\n",
    "        four = sample1[4]\n",
    "        twoyr.append(two)\n",
    "        threeyr.append(three)\n",
    "        fouryr.append(four)\n",
    "        sample2=staff_num(Authority,i)\n",
    "        Staff.append(sample2)\n",
    "        i = i +1\n",
    "\n",
    "    #plot(years,Kids, label = \"Total Number of Children\")\n",
    "    plot(years, Staff, label = \"Minimum Staff Required\")\n",
    "    plot(years, twoyr, label = \"Number of 2 yr olds\")\n",
    "    plot(years, threeyr, label = \"Number of 3 yr olds\")\n",
    "    plot(years, fouryr, label = \"Number of 4 yr olds\")\n",
    "    title(labelAuth)\n",
    "    xlabel('Year')\n",
    "    ylabel('Number of Kids/Staff')\n",
    "    lgd = legend(loc='upper left', bbox_to_anchor=(1,1), ncol=1)\n",
    "    savefig(Code+\" \"+Name+\".jpg\",bbox_extra_artists=(lgd,), bbox_inches='tight')\n",
    "    close()\n",
    "        \n",
    "    \n",
    "def output_file(authority):\n",
    "    #creates a text file of model.\n",
    "    #outputs prediction\n",
    "    \n",
    "    Code = authority[0]\n",
    "    Name = authority[3]\n",
    "    fileName = Code+\" \"+Name+\".txt\"\n",
    "\n",
    "\n",
    "    \n",
    "    \n",
    "    \n",
    "    file = open(Code+\" \"+Name+\".txt\", \"w+\")\n",
    "    file.write(Code + \": \" + Name + \"\\n\")\n",
    "    file.write(\"Year  2-4yrs  2yr    3yr  4 yr  Staff\" + \"\\n\")\n",
    "\n",
    "    for i in year:\n",
    "        years = 2018 + i\n",
    "        line = []\n",
    "        line.append(years)\n",
    "        sample1 = num_Kids(authority,i)\n",
    "        line.append(str(sample1[5]))\n",
    "        line.append(str(sample1[2]))\n",
    "        line.append(str(sample1[3]))\n",
    "        line.append(str(sample1[4]))\n",
    "        sample2 = staff_num(authority,i)\n",
    "        line.append(str(sample2))\n",
    "        line.append(\"\\n\")\n",
    "        string = \",  \".join(str(x) for x in line)\n",
    "        file.write(string)\n",
    "        \n",
    "        \n",
    "    "
   ]
  },
  {
   "cell_type": "code",
   "execution_count": 58,
   "metadata": {},
   "outputs": [
    {
     "data": {
      "text/plain": [
       "[0, 1, 2, 3, 4, 5, 6, 7, 8, 9, 10]"
      ]
     },
     "execution_count": 58,
     "metadata": {},
     "output_type": "execute_result"
    }
   ],
   "source": [
    "year = []\n",
    "\n",
    "for i in range(11):\n",
    "    year.append(i)\n",
    "year    "
   ]
  },
  {
   "cell_type": "code",
   "execution_count": 61,
   "metadata": {},
   "outputs": [
    {
     "data": {
      "text/plain": [
       "['CODE',\n",
       " '',\n",
       " '',\n",
       " 'AREA',\n",
       " '2018',\n",
       " '2019',\n",
       " '2020',\n",
       " '2021',\n",
       " '2022',\n",
       " '2023',\n",
       " '2024',\n",
       " '2025',\n",
       " '2026',\n",
       " '2027',\n",
       " '2028',\n",
       " '',\n",
       " '2 yr Old/hrs',\n",
       " '3 Yr Old/hrs',\n",
       " '4 Yr Old/hrs',\n",
       " '',\n",
       " '2 yr old',\n",
       " '3 yr old',\n",
       " '4 yr old']"
      ]
     },
     "execution_count": 61,
     "metadata": {},
     "output_type": "execute_result"
    }
   ],
   "source": [
    "file = open(\"Scrubbed_Data.txt\", \"r\")\n",
    "kidPopData=[]\n",
    "for line in file:\n",
    "    single_entry = line.split(\",\")\n",
    "    single_entry.pop()\n",
    "    kidPopData.append(single_entry)\n",
    "file.close()\n",
    "Headings = kidPopData[0]\n",
    "kidPopData.pop(0)"
   ]
  },
  {
   "cell_type": "code",
   "execution_count": null,
   "metadata": {},
   "outputs": [],
   "source": [
    "for authority in kidPopData:\n",
    "    staff_plot(authority)\n",
    "    output_file(authority)"
   ]
  },
  {
   "cell_type": "code",
   "execution_count": null,
   "metadata": {
    "collapsed": true
   },
   "outputs": [],
   "source": []
  },
  {
   "cell_type": "code",
   "execution_count": null,
   "metadata": {
    "collapsed": true
   },
   "outputs": [],
   "source": []
  },
  {
   "cell_type": "code",
   "execution_count": null,
   "metadata": {
    "collapsed": true
   },
   "outputs": [],
   "source": []
  },
  {
   "cell_type": "code",
   "execution_count": null,
   "metadata": {
    "collapsed": true
   },
   "outputs": [],
   "source": []
  },
  {
   "cell_type": "code",
   "execution_count": null,
   "metadata": {},
   "outputs": [],
   "source": []
  },
  {
   "cell_type": "code",
   "execution_count": null,
   "metadata": {
    "collapsed": true
   },
   "outputs": [],
   "source": []
  },
  {
   "cell_type": "code",
   "execution_count": null,
   "metadata": {},
   "outputs": [],
   "source": []
  },
  {
   "cell_type": "code",
   "execution_count": null,
   "metadata": {},
   "outputs": [],
   "source": [
    "\n"
   ]
  },
  {
   "cell_type": "code",
   "execution_count": null,
   "metadata": {},
   "outputs": [],
   "source": [
    "\n",
    "    "
   ]
  },
  {
   "cell_type": "code",
   "execution_count": 23,
   "metadata": {
    "collapsed": true
   },
   "outputs": [],
   "source": []
  },
  {
   "cell_type": "code",
   "execution_count": null,
   "metadata": {
    "collapsed": true
   },
   "outputs": [],
   "source": [
    "#Unused/Incorrect Definitions\n",
    "\n",
    "def growth(authority):\n",
    "    \"gives mean change in number of 1 - 4 yr olds over 10 year period for a given authority\"\n",
    "    \n",
    "    result = 0\n",
    "    Code = authority[0]\n",
    "    Name = authority[3]\n",
    "    \n",
    "    for i in range(len(authority)-3):\n",
    "        x = float(authority[2+i])/ float(authority[3+i])\n",
    "        result = result + x\n",
    "        i = i +1\n",
    "        mean = result/10\n",
    "    \n",
    "    result = [Code, Name, mean]\n",
    "    return result\n",
    "\n",
    "def createFolder(authority):\n",
    "    \n",
    "    Code = authority[0]\n",
    "    Name = authority[3]\n",
    "    directory = Code+\" \"+Name\n",
    "    \n",
    "    \n",
    "    try:\n",
    "        if not os.path.exists(directory):\n",
    "            os.makedirs(directory)\n",
    "    except OSError:\n",
    "        print ('Error: Creating directory. ' +  directory)"
   ]
  }
 ],
 "metadata": {
  "kernelspec": {
   "display_name": "Python 3",
   "language": "python",
   "name": "python3"
  },
  "language_info": {
   "codemirror_mode": {
    "name": "ipython",
    "version": 3
   },
   "file_extension": ".py",
   "mimetype": "text/x-python",
   "name": "python",
   "nbconvert_exporter": "python",
   "pygments_lexer": "ipython3",
   "version": "3.6.3"
  }
 },
 "nbformat": 4,
 "nbformat_minor": 2
}
